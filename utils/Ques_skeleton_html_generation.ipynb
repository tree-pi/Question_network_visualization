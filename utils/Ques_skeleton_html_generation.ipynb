{
 "cells": [
  {
   "cell_type": "code",
   "execution_count": 1,
   "metadata": {},
   "outputs": [],
   "source": [
    "# The program aims to generate the html file from the question skeleton\n",
    "# It is different from normal question relations since it's procedural\n",
    "\n",
    "import networkx as nx \n",
    "import matplotlib.pyplot as plt\n",
    "import pandas as pd\n",
    "import numpy as np\n",
    "import json \n",
    "import pickle\n",
    "import os\n",
    "from shutil import copyfile\n",
    "\n",
    "from IPython.core.debugger import set_trace"
   ]
  },
  {
   "cell_type": "code",
   "execution_count": null,
   "metadata": {},
   "outputs": [],
   "source": [
    "# simply define some skeletons here\n",
    "\"\"\"skeleton = ['Why is it...?', 'What is the hypothesis?','What are the empirical observation?','Is the hypothesis good at explaining the empirical observation?']\n",
    "pagetitle = 'why question skeleton'\"\"\"\n",
    "\n",
    "\n",
    "\"\"\"skeleton = ['How to solve this?','What is the proposed solution?','Is the solution good?','How to improve this solution?']\n",
    "pagetitle = 'how question skeleton'\"\"\"\n",
    "\n",
    "\"\"\"skeleton = ['Is this good?','What are effects of this?','Who benefits from / is harmed by these effects?','How to eliminate the negative effects?']\n",
    "pagetitle = 'evaluation question skeleton'\"\"\"\n",
    "\n",
    "\n",
    "# specify vis properties\n",
    "nd_color = '#FFC38B'\n",
    "nd_size = 5\n",
    "nd_shape='dot'\n",
    "lk_color = '#FFF3CD'\n",
    "lk_width = 3 #much thicker than the others\n",
    "# construct the network\n",
    "ht_nodes,ht_edges = [],[]\n",
    "for kn,node in enumerate(skeleton):\n",
    "    ht_nodes.append({'id':kn, 'label': wrap_by_word(node,5),'fulllabel':node, 'type':'skeletonQ',\n",
    "                     'color': nd_color, 'size':nd_size,'shape':nd_shape, 'font':{'vadjust':'25'},\n",
    "                    'x':kn*160,'y':kn%2*70}) # specify locations of this chain (wavy y to save space)\n",
    "    if kn>0:\n",
    "        ht_edges.append({'from':kn-1, 'to': kn, 'label': '', 'color':lk_color,\n",
    "                     'font':{'align':'middle'},'arrows':'to','width':lk_width,'style':\"dashed\",'arrowtail':'vee'})"
   ]
  },
  {
   "cell_type": "code",
   "execution_count": 79,
   "metadata": {},
   "outputs": [],
   "source": [
    "\n",
    "skeleton = ['Why is it...?', 'What are the hypotheses?','What are the empirical observation?','Is the hypothesis good at explaining the empirical observation?','Which of the hypotheses explain the empirical observation best?']\n",
    "expansion = [[],['hypothesis 1','hypothesis 2'],['experiment a','experiment b'],['hyp 1-exp a','hyp 1-exp b','hyp 2-exp a','hyp 2-exp b'],[]]#\n",
    "pagetitle = 'why question expanded skeleton'\n",
    "# specify vis properties\n",
    "nd_color = '#FFC38B'\n",
    "nd_size = 5\n",
    "nd_shape='dot'\n",
    "expnd_color = '#C3EDEA'\n",
    "explk_width = 1.5\n",
    "lk_color = '#FFF3CD'\n",
    "lk_width = 3 #much thicker than the others\n",
    "# construct the network\n",
    "ht_nodes,ht_edges = [],[]\n",
    "for kn,node in enumerate(skeleton):\n",
    "    ht_nodes.append({'id':str(kn), 'label': wrap_by_word(node,5),'fulllabel':node, 'type':'skeletonQ',\n",
    "                     'color': nd_color, 'size':nd_size,'shape':nd_shape, 'font':{'vadjust':'25'},\n",
    "                    'x':kn*160,'y':kn%2*70}) # specify locations of this chain (wavy y to save space)\n",
    "    if kn>0:\n",
    "        ht_edges.append({'from':kn-1, 'to': kn, 'label': '', 'color':lk_color,\n",
    "                     'font':{'align':'middle'},'arrows':'to','width':lk_width,'style':\"dashed\",'arrowtail':'vee'})\n",
    "    if len(expansion[kn]):\n",
    "        for kex,expnd in enumerate(expansion[kn]):\n",
    "            ht_nodes.append({'id':str(kn)+'_'+str(kex), 'label': wrap_by_word(expnd,5),'fulllabel':expnd, 'type':'skeleton_expansion',\n",
    "                     'color': expnd_color, 'size':nd_size,'shape':nd_shape, 'font':{'vadjust':'25'},\n",
    "                    'x':kn*160+10+20*kex,'y':kn%2*70-100+40*kex\n",
    "                            }) # specify locations of this chain (wavy y to save space)\n",
    "            ht_edges.append({'from':kn, 'to': str(kn)+'_'+str(kex), 'label': '', 'color':expnd_color,\n",
    "                     'font':{'align':'middle'},'arrows':'to','width':explk_width,'style':\"dashed\",'arrowtail':'vee'})\n",
    "            \n",
    "            \n",
    "            "
   ]
  },
  {
   "cell_type": "code",
   "execution_count": 81,
   "metadata": {},
   "outputs": [],
   "source": [
    "# output the html by revising the template    \n",
    "htmltitle = pagetitle\n",
    "pageinfo =''\n",
    "tfile = 'html_templates/html_skeleton.html' # template file\n",
    "rawname = pagetitle+'.html'\n",
    "with open(tfile, 'r') as f,open(rawname, 'w') as rawf:\n",
    "        content = f.readlines()\n",
    "        for kl,line in enumerate(content):            \n",
    "            if kl==5:\n",
    "                rawf.write('<TITLE>'+pagetitle+'</TITLE>')\n",
    "            elif kl==74:\n",
    "                rawf.write('var nodes = new vis.DataSet('+str(ht_nodes)+')\\n')\n",
    "            elif kl==75:\n",
    "                rawf.write('var edges = new vis.DataSet('+str(ht_edges)+')\\n')\n",
    "            else:\n",
    "                rawf.write(line)"
   ]
  },
  {
   "cell_type": "code",
   "execution_count": 2,
   "metadata": {},
   "outputs": [],
   "source": [
    "def wrap_by_word(s, n):\n",
    "    # returns a string where \\\\n is inserted between every n words\n",
    "    a = s.split()\n",
    "    wrapped = ''\n",
    "    for i in range(0, len(a), n):\n",
    "        wrapped += ' '.join(a[i:i+n]) + '\\n'\n",
    "    return wrapped"
   ]
  },
  {
   "cell_type": "code",
   "execution_count": null,
   "metadata": {},
   "outputs": [],
   "source": []
  }
 ],
 "metadata": {
  "kernelspec": {
   "display_name": "Python 3",
   "language": "python",
   "name": "python3"
  },
  "language_info": {
   "codemirror_mode": {
    "name": "ipython",
    "version": 3
   },
   "file_extension": ".py",
   "mimetype": "text/x-python",
   "name": "python",
   "nbconvert_exporter": "python",
   "pygments_lexer": "ipython3",
   "version": "3.7.6"
  },
  "toc": {
   "base_numbering": 1,
   "nav_menu": {},
   "number_sections": true,
   "sideBar": true,
   "skip_h1_title": false,
   "title_cell": "Table of Contents",
   "title_sidebar": "Contents",
   "toc_cell": false,
   "toc_position": {},
   "toc_section_display": true,
   "toc_window_display": false
  }
 },
 "nbformat": 4,
 "nbformat_minor": 4
}
